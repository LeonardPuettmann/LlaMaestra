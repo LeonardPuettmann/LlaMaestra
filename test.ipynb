{
 "cells": [
  {
   "cell_type": "code",
   "execution_count": 8,
   "metadata": {},
   "outputs": [],
   "source": [
    "text = \"\"\"\n",
    "<|begin_of_text|><|begin_of_text|><|start_header_id|>system<|end_header_id|>\n",
    "\n",
    "Cutting Knowledge Date: December 2023\n",
    "Today Date: 15 Nov 2024\n",
    "\n",
    "Your job is to return translations for sentences or words from either Italian to English or English to Italian.<|eot_id|><|start_header_id|>user<|end_header_id|>\n",
    "\n",
    "I want to travel to italy<|eot_id|><|start_header_id|>assistant<|end_header_id|>\n",
    "\n",
    "Mamma mia.<|eot_id|>\n",
    "\"\"\""
   ]
  },
  {
   "cell_type": "code",
   "execution_count": 9,
   "metadata": {},
   "outputs": [
    {
     "name": "stdout",
     "output_type": "stream",
     "text": [
      "Mamma mia.\n"
     ]
    }
   ],
   "source": [
    "print(text.rsplit(\"<|end_header_id|>\", 1)[-1].replace(\"<|eot_id|>\", \"\").strip())"
   ]
  },
  {
   "cell_type": "code",
   "execution_count": null,
   "metadata": {},
   "outputs": [],
   "source": []
  }
 ],
 "metadata": {
  "kernelspec": {
   "display_name": "Python 3",
   "language": "python",
   "name": "python3"
  },
  "language_info": {
   "codemirror_mode": {
    "name": "ipython",
    "version": 3
   },
   "file_extension": ".py",
   "mimetype": "text/x-python",
   "name": "python",
   "nbconvert_exporter": "python",
   "pygments_lexer": "ipython3",
   "version": "3.12.3"
  }
 },
 "nbformat": 4,
 "nbformat_minor": 2
}
